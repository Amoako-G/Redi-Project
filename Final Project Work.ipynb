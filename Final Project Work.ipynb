{
 "cells": [
  {
   "cell_type": "code",
   "execution_count": 1,
   "id": "de34a6d4",
   "metadata": {},
   "outputs": [
    {
     "name": "stdout",
     "output_type": "stream",
     "text": [
      "             date            area  average_price       code  houses_sold  \\\n",
      "0      1995-01-01  city of london          91449  E09000001         17.0   \n",
      "1      1995-02-01  city of london          82203  E09000001          7.0   \n",
      "2      1995-03-01  city of london          79121  E09000001         14.0   \n",
      "3      1995-04-01  city of london          77101  E09000001          7.0   \n",
      "4      1995-05-01  city of london          84409  E09000001         10.0   \n",
      "...           ...             ...            ...        ...          ...   \n",
      "13544  2019-09-01         england         249942  E92000001      64605.0   \n",
      "13545  2019-10-01         england         249376  E92000001      68677.0   \n",
      "13546  2019-11-01         england         248515  E92000001      67814.0   \n",
      "13547  2019-12-01         england         250410  E92000001          NaN   \n",
      "13548  2020-01-01         england         247355  E92000001          NaN   \n",
      "\n",
      "       no_of_crimes  borough_flag  \n",
      "0               NaN             1  \n",
      "1               NaN             1  \n",
      "2               NaN             1  \n",
      "3               NaN             1  \n",
      "4               NaN             1  \n",
      "...             ...           ...  \n",
      "13544           NaN             0  \n",
      "13545           NaN             0  \n",
      "13546           NaN             0  \n",
      "13547           NaN             0  \n",
      "13548           NaN             0  \n",
      "\n",
      "[13549 rows x 7 columns]\n"
     ]
    }
   ],
   "source": [
    "import numpy as np\n",
    "import pandas as pd\n",
    "import matplotlib.pyplot as plt\n",
    "import seaborn as sns\n",
    "\n",
    "# load data\n",
    "df = pd.read_csv(r'C:\\Users\\georg\\OneDrive\\Desktop\\housing_in_london_monthly_variables.csv')\n",
    "print(df)\n"
   ]
  },
  {
   "cell_type": "code",
   "execution_count": 2,
   "id": "6de25466",
   "metadata": {},
   "outputs": [
    {
     "name": "stdout",
     "output_type": "stream",
     "text": [
      "<class 'pandas.core.frame.DataFrame'>\n",
      "RangeIndex: 13549 entries, 0 to 13548\n",
      "Data columns (total 7 columns):\n",
      " #   Column         Non-Null Count  Dtype  \n",
      "---  ------         --------------  -----  \n",
      " 0   date           13549 non-null  object \n",
      " 1   area           13549 non-null  object \n",
      " 2   average_price  13549 non-null  int64  \n",
      " 3   code           13549 non-null  object \n",
      " 4   houses_sold    13455 non-null  float64\n",
      " 5   no_of_crimes   7439 non-null   float64\n",
      " 6   borough_flag   13549 non-null  int64  \n",
      "dtypes: float64(2), int64(2), object(3)\n",
      "memory usage: 741.1+ KB\n"
     ]
    }
   ],
   "source": [
    "#print info on data frame\n",
    "df.info()\n"
   ]
  },
  {
   "cell_type": "code",
   "execution_count": 3,
   "id": "19e786ac",
   "metadata": {},
   "outputs": [
    {
     "data": {
      "text/plain": [
       "date              object\n",
       "area              object\n",
       "average_price      int64\n",
       "code              object\n",
       "houses_sold      float64\n",
       "no_of_crimes     float64\n",
       "borough_flag       int64\n",
       "dtype: object"
      ]
     },
     "execution_count": 3,
     "metadata": {},
     "output_type": "execute_result"
    }
   ],
   "source": [
    "#print types of each column\n",
    "df.dtypes\n"
   ]
  },
  {
   "cell_type": "code",
   "execution_count": 4,
   "id": "2799a986",
   "metadata": {},
   "outputs": [
    {
     "data": {
      "text/plain": [
       "Index(['date', 'area', 'average_price', 'code', 'houses_sold', 'no_of_crimes',\n",
       "       'borough_flag'],\n",
       "      dtype='object')"
      ]
     },
     "execution_count": 4,
     "metadata": {},
     "output_type": "execute_result"
    }
   ],
   "source": [
    "#print column names\n",
    "df.columns\n"
   ]
  },
  {
   "cell_type": "code",
   "execution_count": 5,
   "id": "e057e7af",
   "metadata": {},
   "outputs": [
    {
     "data": {
      "text/plain": [
       "(13549, 7)"
      ]
     },
     "execution_count": 5,
     "metadata": {},
     "output_type": "execute_result"
    }
   ],
   "source": [
    "#print shape of data\n",
    "df.shape"
   ]
  },
  {
   "cell_type": "code",
   "execution_count": 25,
   "id": "1bffcd20",
   "metadata": {},
   "outputs": [
    {
     "data": {
      "text/html": [
       "<div>\n",
       "<style scoped>\n",
       "    .dataframe tbody tr th:only-of-type {\n",
       "        vertical-align: middle;\n",
       "    }\n",
       "\n",
       "    .dataframe tbody tr th {\n",
       "        vertical-align: top;\n",
       "    }\n",
       "\n",
       "    .dataframe thead th {\n",
       "        text-align: right;\n",
       "    }\n",
       "</style>\n",
       "<table border=\"1\" class=\"dataframe\">\n",
       "  <thead>\n",
       "    <tr style=\"text-align: right;\">\n",
       "      <th></th>\n",
       "      <th>average_price</th>\n",
       "      <th>houses_sold</th>\n",
       "      <th>no_of_crimes</th>\n",
       "      <th>borough_flag</th>\n",
       "      <th>Years</th>\n",
       "    </tr>\n",
       "  </thead>\n",
       "  <tbody>\n",
       "    <tr>\n",
       "      <th>count</th>\n",
       "      <td>1.354900e+04</td>\n",
       "      <td>13549.000000</td>\n",
       "      <td>13549.000000</td>\n",
       "      <td>13549.000000</td>\n",
       "      <td>13549.000000</td>\n",
       "    </tr>\n",
       "    <tr>\n",
       "      <th>mean</th>\n",
       "      <td>2.635197e+05</td>\n",
       "      <td>3893.994129</td>\n",
       "      <td>1185.030703</td>\n",
       "      <td>0.733338</td>\n",
       "      <td>2007.040224</td>\n",
       "    </tr>\n",
       "    <tr>\n",
       "      <th>std</th>\n",
       "      <td>1.876175e+05</td>\n",
       "      <td>12072.302684</td>\n",
       "      <td>1265.015897</td>\n",
       "      <td>0.442230</td>\n",
       "      <td>7.239151</td>\n",
       "    </tr>\n",
       "    <tr>\n",
       "      <th>min</th>\n",
       "      <td>4.072200e+04</td>\n",
       "      <td>2.000000</td>\n",
       "      <td>0.000000</td>\n",
       "      <td>0.000000</td>\n",
       "      <td>1995.000000</td>\n",
       "    </tr>\n",
       "    <tr>\n",
       "      <th>25%</th>\n",
       "      <td>1.323800e+05</td>\n",
       "      <td>248.000000</td>\n",
       "      <td>0.000000</td>\n",
       "      <td>0.000000</td>\n",
       "      <td>2001.000000</td>\n",
       "    </tr>\n",
       "    <tr>\n",
       "      <th>50%</th>\n",
       "      <td>2.229190e+05</td>\n",
       "      <td>373.000000</td>\n",
       "      <td>1085.000000</td>\n",
       "      <td>1.000000</td>\n",
       "      <td>2007.000000</td>\n",
       "    </tr>\n",
       "    <tr>\n",
       "      <th>75%</th>\n",
       "      <td>3.368430e+05</td>\n",
       "      <td>3367.000000</td>\n",
       "      <td>2210.000000</td>\n",
       "      <td>1.000000</td>\n",
       "      <td>2013.000000</td>\n",
       "    </tr>\n",
       "    <tr>\n",
       "      <th>max</th>\n",
       "      <td>1.463378e+06</td>\n",
       "      <td>132163.000000</td>\n",
       "      <td>7461.000000</td>\n",
       "      <td>1.000000</td>\n",
       "      <td>2020.000000</td>\n",
       "    </tr>\n",
       "  </tbody>\n",
       "</table>\n",
       "</div>"
      ],
      "text/plain": [
       "       average_price    houses_sold  no_of_crimes  borough_flag         Years\n",
       "count   1.354900e+04   13549.000000  13549.000000  13549.000000  13549.000000\n",
       "mean    2.635197e+05    3893.994129   1185.030703      0.733338   2007.040224\n",
       "std     1.876175e+05   12072.302684   1265.015897      0.442230      7.239151\n",
       "min     4.072200e+04       2.000000      0.000000      0.000000   1995.000000\n",
       "25%     1.323800e+05     248.000000      0.000000      0.000000   2001.000000\n",
       "50%     2.229190e+05     373.000000   1085.000000      1.000000   2007.000000\n",
       "75%     3.368430e+05    3367.000000   2210.000000      1.000000   2013.000000\n",
       "max     1.463378e+06  132163.000000   7461.000000      1.000000   2020.000000"
      ]
     },
     "execution_count": 25,
     "metadata": {},
     "output_type": "execute_result"
    }
   ],
   "source": [
    "#Use the description method\n",
    "df.describe()"
   ]
  },
  {
   "cell_type": "code",
   "execution_count": 6,
   "id": "81a3d36d",
   "metadata": {},
   "outputs": [
    {
     "data": {
      "text/html": [
       "<div>\n",
       "<style scoped>\n",
       "    .dataframe tbody tr th:only-of-type {\n",
       "        vertical-align: middle;\n",
       "    }\n",
       "\n",
       "    .dataframe tbody tr th {\n",
       "        vertical-align: top;\n",
       "    }\n",
       "\n",
       "    .dataframe thead th {\n",
       "        text-align: right;\n",
       "    }\n",
       "</style>\n",
       "<table border=\"1\" class=\"dataframe\">\n",
       "  <thead>\n",
       "    <tr style=\"text-align: right;\">\n",
       "      <th></th>\n",
       "      <th>date</th>\n",
       "      <th>area</th>\n",
       "      <th>code</th>\n",
       "    </tr>\n",
       "  </thead>\n",
       "  <tbody>\n",
       "    <tr>\n",
       "      <th>count</th>\n",
       "      <td>13549</td>\n",
       "      <td>13549</td>\n",
       "      <td>13549</td>\n",
       "    </tr>\n",
       "    <tr>\n",
       "      <th>unique</th>\n",
       "      <td>301</td>\n",
       "      <td>45</td>\n",
       "      <td>45</td>\n",
       "    </tr>\n",
       "    <tr>\n",
       "      <th>top</th>\n",
       "      <td>1998-04-01</td>\n",
       "      <td>south east</td>\n",
       "      <td>E09000030</td>\n",
       "    </tr>\n",
       "    <tr>\n",
       "      <th>freq</th>\n",
       "      <td>47</td>\n",
       "      <td>302</td>\n",
       "      <td>302</td>\n",
       "    </tr>\n",
       "  </tbody>\n",
       "</table>\n",
       "</div>"
      ],
      "text/plain": [
       "              date        area       code\n",
       "count        13549       13549      13549\n",
       "unique         301          45         45\n",
       "top     1998-04-01  south east  E09000030\n",
       "freq            47         302        302"
      ]
     },
     "execution_count": 6,
     "metadata": {},
     "output_type": "execute_result"
    }
   ],
   "source": [
    "#Use the description method on non-numeric data (objects)\n",
    "df.describe(include='object')"
   ]
  },
  {
   "cell_type": "code",
   "execution_count": 7,
   "id": "783e929c",
   "metadata": {},
   "outputs": [
    {
     "data": {
      "text/plain": [
       "date                0\n",
       "area                0\n",
       "average_price       0\n",
       "code                0\n",
       "houses_sold        94\n",
       "no_of_crimes     6110\n",
       "borough_flag        0\n",
       "dtype: int64"
      ]
     },
     "execution_count": 7,
     "metadata": {},
     "output_type": "execute_result"
    }
   ],
   "source": [
    "#Check on missing data\n",
    "df.isnull().sum()"
   ]
  },
  {
   "cell_type": "code",
   "execution_count": 8,
   "id": "e8307e23",
   "metadata": {},
   "outputs": [
    {
     "data": {
      "text/html": [
       "<div>\n",
       "<style scoped>\n",
       "    .dataframe tbody tr th:only-of-type {\n",
       "        vertical-align: middle;\n",
       "    }\n",
       "\n",
       "    .dataframe tbody tr th {\n",
       "        vertical-align: top;\n",
       "    }\n",
       "\n",
       "    .dataframe thead th {\n",
       "        text-align: right;\n",
       "    }\n",
       "</style>\n",
       "<table border=\"1\" class=\"dataframe\">\n",
       "  <thead>\n",
       "    <tr style=\"text-align: right;\">\n",
       "      <th></th>\n",
       "      <th>date</th>\n",
       "      <th>area</th>\n",
       "      <th>average_price</th>\n",
       "      <th>code</th>\n",
       "      <th>houses_sold</th>\n",
       "      <th>no_of_crimes</th>\n",
       "      <th>borough_flag</th>\n",
       "    </tr>\n",
       "  </thead>\n",
       "  <tbody>\n",
       "    <tr>\n",
       "      <th>0</th>\n",
       "      <td>1995-01-01</td>\n",
       "      <td>city of london</td>\n",
       "      <td>91449</td>\n",
       "      <td>E09000001</td>\n",
       "      <td>17.000000</td>\n",
       "      <td>0.0</td>\n",
       "      <td>1</td>\n",
       "    </tr>\n",
       "    <tr>\n",
       "      <th>1</th>\n",
       "      <td>1995-02-01</td>\n",
       "      <td>city of london</td>\n",
       "      <td>82203</td>\n",
       "      <td>E09000001</td>\n",
       "      <td>7.000000</td>\n",
       "      <td>0.0</td>\n",
       "      <td>1</td>\n",
       "    </tr>\n",
       "    <tr>\n",
       "      <th>2</th>\n",
       "      <td>1995-03-01</td>\n",
       "      <td>city of london</td>\n",
       "      <td>79121</td>\n",
       "      <td>E09000001</td>\n",
       "      <td>14.000000</td>\n",
       "      <td>0.0</td>\n",
       "      <td>1</td>\n",
       "    </tr>\n",
       "    <tr>\n",
       "      <th>3</th>\n",
       "      <td>1995-04-01</td>\n",
       "      <td>city of london</td>\n",
       "      <td>77101</td>\n",
       "      <td>E09000001</td>\n",
       "      <td>7.000000</td>\n",
       "      <td>0.0</td>\n",
       "      <td>1</td>\n",
       "    </tr>\n",
       "    <tr>\n",
       "      <th>4</th>\n",
       "      <td>1995-05-01</td>\n",
       "      <td>city of london</td>\n",
       "      <td>84409</td>\n",
       "      <td>E09000001</td>\n",
       "      <td>10.000000</td>\n",
       "      <td>0.0</td>\n",
       "      <td>1</td>\n",
       "    </tr>\n",
       "    <tr>\n",
       "      <th>...</th>\n",
       "      <td>...</td>\n",
       "      <td>...</td>\n",
       "      <td>...</td>\n",
       "      <td>...</td>\n",
       "      <td>...</td>\n",
       "      <td>...</td>\n",
       "      <td>...</td>\n",
       "    </tr>\n",
       "    <tr>\n",
       "      <th>13544</th>\n",
       "      <td>2019-09-01</td>\n",
       "      <td>england</td>\n",
       "      <td>249942</td>\n",
       "      <td>E92000001</td>\n",
       "      <td>64605.000000</td>\n",
       "      <td>0.0</td>\n",
       "      <td>0</td>\n",
       "    </tr>\n",
       "    <tr>\n",
       "      <th>13545</th>\n",
       "      <td>2019-10-01</td>\n",
       "      <td>england</td>\n",
       "      <td>249376</td>\n",
       "      <td>E92000001</td>\n",
       "      <td>68677.000000</td>\n",
       "      <td>0.0</td>\n",
       "      <td>0</td>\n",
       "    </tr>\n",
       "    <tr>\n",
       "      <th>13546</th>\n",
       "      <td>2019-11-01</td>\n",
       "      <td>england</td>\n",
       "      <td>248515</td>\n",
       "      <td>E92000001</td>\n",
       "      <td>67814.000000</td>\n",
       "      <td>0.0</td>\n",
       "      <td>0</td>\n",
       "    </tr>\n",
       "    <tr>\n",
       "      <th>13547</th>\n",
       "      <td>2019-12-01</td>\n",
       "      <td>england</td>\n",
       "      <td>250410</td>\n",
       "      <td>E92000001</td>\n",
       "      <td>3893.994129</td>\n",
       "      <td>0.0</td>\n",
       "      <td>0</td>\n",
       "    </tr>\n",
       "    <tr>\n",
       "      <th>13548</th>\n",
       "      <td>2020-01-01</td>\n",
       "      <td>england</td>\n",
       "      <td>247355</td>\n",
       "      <td>E92000001</td>\n",
       "      <td>3893.994129</td>\n",
       "      <td>0.0</td>\n",
       "      <td>0</td>\n",
       "    </tr>\n",
       "  </tbody>\n",
       "</table>\n",
       "<p>13549 rows × 7 columns</p>\n",
       "</div>"
      ],
      "text/plain": [
       "             date            area  average_price       code   houses_sold  \\\n",
       "0      1995-01-01  city of london          91449  E09000001     17.000000   \n",
       "1      1995-02-01  city of london          82203  E09000001      7.000000   \n",
       "2      1995-03-01  city of london          79121  E09000001     14.000000   \n",
       "3      1995-04-01  city of london          77101  E09000001      7.000000   \n",
       "4      1995-05-01  city of london          84409  E09000001     10.000000   \n",
       "...           ...             ...            ...        ...           ...   \n",
       "13544  2019-09-01         england         249942  E92000001  64605.000000   \n",
       "13545  2019-10-01         england         249376  E92000001  68677.000000   \n",
       "13546  2019-11-01         england         248515  E92000001  67814.000000   \n",
       "13547  2019-12-01         england         250410  E92000001   3893.994129   \n",
       "13548  2020-01-01         england         247355  E92000001   3893.994129   \n",
       "\n",
       "       no_of_crimes  borough_flag  \n",
       "0               0.0             1  \n",
       "1               0.0             1  \n",
       "2               0.0             1  \n",
       "3               0.0             1  \n",
       "4               0.0             1  \n",
       "...             ...           ...  \n",
       "13544           0.0             0  \n",
       "13545           0.0             0  \n",
       "13546           0.0             0  \n",
       "13547           0.0             0  \n",
       "13548           0.0             0  \n",
       "\n",
       "[13549 rows x 7 columns]"
      ]
     },
     "execution_count": 8,
     "metadata": {},
     "output_type": "execute_result"
    }
   ],
   "source": [
    "# decide to drop rows with missing data or to fill\n",
    "df['no_of_crimes'].fillna(0,inplace=True)\n",
    "df['houses_sold'].fillna(df['houses_sold'].mean(),inplace=True)\n",
    "df"
   ]
  },
  {
   "cell_type": "code",
   "execution_count": 9,
   "id": "ff5b4b03",
   "metadata": {},
   "outputs": [
    {
     "data": {
      "text/plain": [
       "date             0\n",
       "area             0\n",
       "average_price    0\n",
       "code             0\n",
       "houses_sold      0\n",
       "no_of_crimes     0\n",
       "borough_flag     0\n",
       "dtype: int64"
      ]
     },
     "execution_count": 9,
     "metadata": {},
     "output_type": "execute_result"
    }
   ],
   "source": [
    "#Check on missing data again\n",
    "df.isnull().sum()\n"
   ]
  },
  {
   "cell_type": "code",
   "execution_count": 10,
   "id": "72c95290",
   "metadata": {},
   "outputs": [
    {
     "data": {
      "text/plain": [
       "0       1995-01-01\n",
       "1       1995-02-01\n",
       "2       1995-03-01\n",
       "3       1995-04-01\n",
       "4       1995-05-01\n",
       "           ...    \n",
       "13544   2019-09-01\n",
       "13545   2019-10-01\n",
       "13546   2019-11-01\n",
       "13547   2019-12-01\n",
       "13548   2020-01-01\n",
       "Name: date, Length: 13549, dtype: datetime64[ns]"
      ]
     },
     "execution_count": 10,
     "metadata": {},
     "output_type": "execute_result"
    }
   ],
   "source": [
    "#date has to had a date type rather than object\n",
    "df['date']=pd.to_datetime(df['date'])\n",
    "df['date']"
   ]
  },
  {
   "cell_type": "code",
   "execution_count": 11,
   "id": "2bbae71f",
   "metadata": {},
   "outputs": [
    {
     "data": {
      "text/html": [
       "<div>\n",
       "<style scoped>\n",
       "    .dataframe tbody tr th:only-of-type {\n",
       "        vertical-align: middle;\n",
       "    }\n",
       "\n",
       "    .dataframe tbody tr th {\n",
       "        vertical-align: top;\n",
       "    }\n",
       "\n",
       "    .dataframe thead th {\n",
       "        text-align: right;\n",
       "    }\n",
       "</style>\n",
       "<table border=\"1\" class=\"dataframe\">\n",
       "  <thead>\n",
       "    <tr style=\"text-align: right;\">\n",
       "      <th></th>\n",
       "      <th>date</th>\n",
       "      <th>area</th>\n",
       "      <th>average_price</th>\n",
       "      <th>code</th>\n",
       "      <th>houses_sold</th>\n",
       "      <th>no_of_crimes</th>\n",
       "      <th>borough_flag</th>\n",
       "      <th>Years</th>\n",
       "    </tr>\n",
       "  </thead>\n",
       "  <tbody>\n",
       "    <tr>\n",
       "      <th>0</th>\n",
       "      <td>1995-01-01</td>\n",
       "      <td>city of london</td>\n",
       "      <td>91449</td>\n",
       "      <td>E09000001</td>\n",
       "      <td>17.000000</td>\n",
       "      <td>0.0</td>\n",
       "      <td>1</td>\n",
       "      <td>1995</td>\n",
       "    </tr>\n",
       "    <tr>\n",
       "      <th>1</th>\n",
       "      <td>1995-02-01</td>\n",
       "      <td>city of london</td>\n",
       "      <td>82203</td>\n",
       "      <td>E09000001</td>\n",
       "      <td>7.000000</td>\n",
       "      <td>0.0</td>\n",
       "      <td>1</td>\n",
       "      <td>1995</td>\n",
       "    </tr>\n",
       "    <tr>\n",
       "      <th>2</th>\n",
       "      <td>1995-03-01</td>\n",
       "      <td>city of london</td>\n",
       "      <td>79121</td>\n",
       "      <td>E09000001</td>\n",
       "      <td>14.000000</td>\n",
       "      <td>0.0</td>\n",
       "      <td>1</td>\n",
       "      <td>1995</td>\n",
       "    </tr>\n",
       "    <tr>\n",
       "      <th>3</th>\n",
       "      <td>1995-04-01</td>\n",
       "      <td>city of london</td>\n",
       "      <td>77101</td>\n",
       "      <td>E09000001</td>\n",
       "      <td>7.000000</td>\n",
       "      <td>0.0</td>\n",
       "      <td>1</td>\n",
       "      <td>1995</td>\n",
       "    </tr>\n",
       "    <tr>\n",
       "      <th>4</th>\n",
       "      <td>1995-05-01</td>\n",
       "      <td>city of london</td>\n",
       "      <td>84409</td>\n",
       "      <td>E09000001</td>\n",
       "      <td>10.000000</td>\n",
       "      <td>0.0</td>\n",
       "      <td>1</td>\n",
       "      <td>1995</td>\n",
       "    </tr>\n",
       "    <tr>\n",
       "      <th>...</th>\n",
       "      <td>...</td>\n",
       "      <td>...</td>\n",
       "      <td>...</td>\n",
       "      <td>...</td>\n",
       "      <td>...</td>\n",
       "      <td>...</td>\n",
       "      <td>...</td>\n",
       "      <td>...</td>\n",
       "    </tr>\n",
       "    <tr>\n",
       "      <th>13544</th>\n",
       "      <td>2019-09-01</td>\n",
       "      <td>england</td>\n",
       "      <td>249942</td>\n",
       "      <td>E92000001</td>\n",
       "      <td>64605.000000</td>\n",
       "      <td>0.0</td>\n",
       "      <td>0</td>\n",
       "      <td>2019</td>\n",
       "    </tr>\n",
       "    <tr>\n",
       "      <th>13545</th>\n",
       "      <td>2019-10-01</td>\n",
       "      <td>england</td>\n",
       "      <td>249376</td>\n",
       "      <td>E92000001</td>\n",
       "      <td>68677.000000</td>\n",
       "      <td>0.0</td>\n",
       "      <td>0</td>\n",
       "      <td>2019</td>\n",
       "    </tr>\n",
       "    <tr>\n",
       "      <th>13546</th>\n",
       "      <td>2019-11-01</td>\n",
       "      <td>england</td>\n",
       "      <td>248515</td>\n",
       "      <td>E92000001</td>\n",
       "      <td>67814.000000</td>\n",
       "      <td>0.0</td>\n",
       "      <td>0</td>\n",
       "      <td>2019</td>\n",
       "    </tr>\n",
       "    <tr>\n",
       "      <th>13547</th>\n",
       "      <td>2019-12-01</td>\n",
       "      <td>england</td>\n",
       "      <td>250410</td>\n",
       "      <td>E92000001</td>\n",
       "      <td>3893.994129</td>\n",
       "      <td>0.0</td>\n",
       "      <td>0</td>\n",
       "      <td>2019</td>\n",
       "    </tr>\n",
       "    <tr>\n",
       "      <th>13548</th>\n",
       "      <td>2020-01-01</td>\n",
       "      <td>england</td>\n",
       "      <td>247355</td>\n",
       "      <td>E92000001</td>\n",
       "      <td>3893.994129</td>\n",
       "      <td>0.0</td>\n",
       "      <td>0</td>\n",
       "      <td>2020</td>\n",
       "    </tr>\n",
       "  </tbody>\n",
       "</table>\n",
       "<p>13549 rows × 8 columns</p>\n",
       "</div>"
      ],
      "text/plain": [
       "            date            area  average_price       code   houses_sold  \\\n",
       "0     1995-01-01  city of london          91449  E09000001     17.000000   \n",
       "1     1995-02-01  city of london          82203  E09000001      7.000000   \n",
       "2     1995-03-01  city of london          79121  E09000001     14.000000   \n",
       "3     1995-04-01  city of london          77101  E09000001      7.000000   \n",
       "4     1995-05-01  city of london          84409  E09000001     10.000000   \n",
       "...          ...             ...            ...        ...           ...   \n",
       "13544 2019-09-01         england         249942  E92000001  64605.000000   \n",
       "13545 2019-10-01         england         249376  E92000001  68677.000000   \n",
       "13546 2019-11-01         england         248515  E92000001  67814.000000   \n",
       "13547 2019-12-01         england         250410  E92000001   3893.994129   \n",
       "13548 2020-01-01         england         247355  E92000001   3893.994129   \n",
       "\n",
       "       no_of_crimes  borough_flag  Years  \n",
       "0               0.0             1   1995  \n",
       "1               0.0             1   1995  \n",
       "2               0.0             1   1995  \n",
       "3               0.0             1   1995  \n",
       "4               0.0             1   1995  \n",
       "...             ...           ...    ...  \n",
       "13544           0.0             0   2019  \n",
       "13545           0.0             0   2019  \n",
       "13546           0.0             0   2019  \n",
       "13547           0.0             0   2019  \n",
       "13548           0.0             0   2020  \n",
       "\n",
       "[13549 rows x 8 columns]"
      ]
     },
     "execution_count": 11,
     "metadata": {},
     "output_type": "execute_result"
    }
   ],
   "source": [
    "#Add a new column 'Year' >>contains Years only\n",
    "df['Years']=df['date'].dt.year\n",
    "df['Years']\n",
    "df"
   ]
  },
  {
   "cell_type": "code",
   "execution_count": 23,
   "id": "2cc74328",
   "metadata": {},
   "outputs": [
    {
     "data": {
      "image/png": "[encoded data removed]",
      "text/plain": [
       "<Figure size 720x432 with 1 Axes>"
      ]
     },
     "metadata": {
      "needs_background": "light"
     },
     "output_type": "display_data"
    },
    {
     "data": {
      "image/png": "[encoded data removed]",
      "text/plain": [
       "<Figure size 720x432 with 1 Axes>"
      ]
     },
     "metadata": {
      "needs_background": "light"
     },
     "output_type": "display_data"
    },
    {
     "data": {
      "image/png": "[encoded data removed]",
      "text/plain": [
       "<Figure size 720x432 with 1 Axes>"
      ]
     },
     "metadata": {
      "needs_background": "light"
     },
     "output_type": "display_data"
    }
   ],
   "source": [
    "class DataFramePlotter:\n",
    "    def __init__(self, dataframe):\n",
    "        self.dataframe = dataframe\n",
    "    \n",
    "    def bar_plot(self, x, y, title=\"Bar Plot\", xlabel=\"X-axis\", ylabel=\"Y-axis\", figsize=(10, 6)):\n",
    "        plt.figure(figsize=figsize)\n",
    "        plt.bar(self.dataframe[x], self.dataframe[y],color='green')\n",
    "        plt.title(title, fontsize=15)\n",
    "        plt.xlabel(xlabel, fontsize=12)\n",
    "        plt.ylabel(ylabel, fontsize=12)\n",
    "        plt.show()\n",
    "    \n",
    "    def line_plot(self, x, y, title=\"Line Plot\", xlabel=\"X-axis\", ylabel=\"Y-axis\", figsize=(10, 6)):\n",
    "        plt.figure(figsize=figsize)\n",
    "        plt.plot(self.dataframe[x], self.dataframe[y], marker='o', color='pink')\n",
    "        plt.title(title, fontsize=15)\n",
    "        plt.xlabel(xlabel, fontsize=12)\n",
    "        plt.ylabel(ylabel, fontsize=12)\n",
    "        plt.show()\n",
    "\n",
    "    def scatter_plot(self, x, y, title=\"Scatter Plot\", xlabel=\"X-axis\", ylabel=\"Y-axis\", figsize=(10, 6)):\n",
    "        plt.figure(figsize=figsize)\n",
    "        plt.scatter(self.dataframe[x], self.dataframe[y], color='skyblue')\n",
    "        plt.title(title, fontsize=15)\n",
    "        plt.xlabel(xlabel, fontsize=12)\n",
    "        plt.ylabel(ylabel, fontsize=12)\n",
    "        plt.show()\n",
    "\n",
    "# Example usage\n",
    "df1 = pd.DataFrame(df)\n",
    "\n",
    "# Initialize the plotter with the DataFrame\n",
    "plotter = DataFramePlotter(df1)\n",
    "\n",
    "# Create different plots\n",
    "plotter.bar_plot(x='Years', y='average_price', title='Years vs Average_price',xlabel='Years', ylabel='Average price')\n",
    "plotter.line_plot(x='Years', y='houses_sold', title='Years vs Houses_sold',xlabel='Years', ylabel='Houses sold')\n",
    "plotter.scatter_plot(x='houses_sold', y='average_price', title='Relationship between Houses_sold and Average_price',xlabel='Houses sold', ylabel='Average_price')"
   ]
  },
  {
   "cell_type": "code",
   "execution_count": 27,
   "id": "47e1026c",
   "metadata": {},
   "outputs": [
    {
     "data": {
      "text/plain": [
       "Years\n",
       "1995    3179.544444\n",
       "1996    3863.774886\n",
       "1997    4388.992593\n",
       "1998    4208.756436\n",
       "1999    4809.274074\n",
       "2000    4472.555556\n",
       "2001    4929.300000\n",
       "2002    5324.629630\n",
       "2003    4914.588889\n",
       "2004    5022.622222\n",
       "2005    4202.474074\n",
       "2006    5261.222222\n",
       "2007    5050.937037\n",
       "2008    2550.033333\n",
       "2009    2459.422222\n",
       "2010    2660.870370\n",
       "2011    2649.511111\n",
       "2012    2697.759259\n",
       "2013    3229.777778\n",
       "2014    3789.492593\n",
       "2015    3746.870370\n",
       "2016    3683.033333\n",
       "2017    3601.770370\n",
       "2018    3415.275926\n",
       "2019    3236.310622\n",
       "2020    3893.994129\n",
       "Name: houses_sold, dtype: float64"
      ]
     },
     "execution_count": 27,
     "metadata": {},
     "output_type": "execute_result"
    }
   ],
   "source": [
    "df.groupby('Years')['houses_sold'].mean()"
   ]
  },
  {
   "cell_type": "code",
   "execution_count": 28,
   "id": "9aa99c6e",
   "metadata": {},
   "outputs": [
    {
     "data": {
      "text/plain": [
       "Text(0, 0.5, 'Houses_sold')"
      ]
     },
     "execution_count": 28,
     "metadata": {},
     "output_type": "execute_result"
    },
    {
     "data": {
      "image/png": "[encoded data removed]",
      "text/plain": [
       "<Figure size 864x576 with 1 Axes>"
      ]
     },
     "metadata": {
      "needs_background": "light"
     },
     "output_type": "display_data"
    }
   ],
   "source": [
    "plt.figure(figsize=(12, 8))  # Width, Height in inches\n",
    "sns.barplot(x='Years', y='houses_sold', data=df, ci=None, palette='viridis')\n",
    "plt.title('Years vs Houses_sold', fontsize=20)\n",
    "plt.xlabel('Years', fontsize=15)\n",
    "plt.ylabel('Houses_sold', fontsize=15)"
   ]
  }
 ],
 "metadata": {
  "kernelspec": {
   "display_name": "Python 3",
   "language": "python",
   "name": "python3"
  },
  "language_info": {
   "codemirror_mode": {
    "name": "ipython",
    "version": 3
   },
   "file_extension": ".py",
   "mimetype": "text/x-python",
   "name": "python",
   "nbconvert_exporter": "python",
   "pygments_lexer": "ipython3",
   "version": "3.8.8"
  }
 },
 "nbformat": 4,
 "nbformat_minor": 5
}
